{
 "cells": [
  {
   "cell_type": "code",
   "execution_count": 61,
   "metadata": {
    "collapsed": true
   },
   "outputs": [],
   "source": [
    "from collections import Counter\n",
    "import pandas\n",
    "import string\n",
    "import math\n",
    "\n",
    "text = [\n",
    "    \"Programming language Python is simple programming language\",\n",
    "    \"Machine Learning with Python is simple\",\n",
    "    \"Machine Learning with Java is common\",\n",
    "    \"Java is Object Oriented Programming language\",\n",
    "    \"Machine Learning with R is old\"\n",
    "]"
   ]
  },
  {
   "cell_type": "code",
   "execution_count": 62,
   "metadata": {
    "collapsed": false
   },
   "outputs": [
    {
     "name": "stdout",
     "output_type": "stream",
     "text": [
      "   oriented  java  language  python  object  programming  machine  simple  \\\n",
      "0         0     0         2       1       0            2        0       1   \n",
      "1         0     0         0       1       0            0        1       1   \n",
      "2         0     1         0       0       0            0        1       0   \n",
      "3         1     1         1       0       1            1        0       0   \n",
      "4         0     0         0       0       0            0        1       0   \n",
      "\n",
      "   common  learning  \n",
      "0       0         0  \n",
      "1       0         1  \n",
      "2       1         1  \n",
      "3       0         0  \n",
      "4       0         1  \n"
     ]
    }
   ],
   "source": [
    "# Find all the unique words in the text.\n",
    "unique_words = list(set(\" \".join(text).lower().split()))\n",
    "\n",
    "# remove stopwords\n",
    "with open(\"stopwords_en.txt\", 'r') as f:\n",
    "    stopwords = f.read().split(\"\\n\")\n",
    "\n",
    "unique_words = [w for w in unique_words if w not in stopwords]\n",
    "\n",
    "def make_matrix(text, vocab):\n",
    "    matrix = []\n",
    "    for sentence in text:\n",
    "        s = sentence.lower().split()\n",
    "        # Count each word in the text, and make a dictionary.\n",
    "        counter = Counter(s)\n",
    "        # Turn the dictionary into a matrix row using the vocab.\n",
    "        row = [counter.get(w, 0) for w in vocab]\n",
    "        matrix.append(row)\n",
    "    df = pandas.DataFrame(matrix)\n",
    "    df.columns = unique_words\n",
    "    return df\n",
    "\n",
    "print(make_matrix(text, unique_words))"
   ]
  },
  {
   "cell_type": "code",
   "execution_count": 63,
   "metadata": {
    "collapsed": false
   },
   "outputs": [],
   "source": [
    "from sklearn.feature_extraction.text import CountVectorizer\n",
    "from sklearn.feature_extraction.text import TfidfTransformer\n",
    "\n",
    "cvec = CountVectorizer(lowercase=True, stop_words='english')\n",
    "\n",
    "matrix = cvec.fit_transform(text)\n",
    "vocab = cvec.get_feature_names()\n",
    "cvec_counts = cvec.transform(text)"
   ]
  },
  {
   "cell_type": "markdown",
   "metadata": {},
   "source": [
    "### Support Functions"
   ]
  },
  {
   "cell_type": "code",
   "execution_count": 64,
   "metadata": {
    "collapsed": true
   },
   "outputs": [],
   "source": [
    "def text2list(document):\n",
    "    words = document.lower().split()\n",
    "    words = [w for w in words if w not in stopwords]\n",
    "    return words"
   ]
  },
  {
   "cell_type": "code",
   "execution_count": 65,
   "metadata": {
    "collapsed": false
   },
   "outputs": [
    {
     "data": {
      "text/plain": [
       "['programming', 'language', 'python', 'simple', 'programming', 'language']"
      ]
     },
     "execution_count": 65,
     "metadata": {},
     "output_type": "execute_result"
    }
   ],
   "source": [
    "text2list(text[0])"
   ]
  },
  {
   "cell_type": "markdown",
   "metadata": {},
   "source": [
    "### Functions for Scoring"
   ]
  },
  {
   "cell_type": "code",
   "execution_count": 200,
   "metadata": {
    "collapsed": true
   },
   "outputs": [],
   "source": [
    "def similarity_jaccard(query, document):\n",
    "    intersection = set(query).intersection(set(document)) \n",
    "    union = set(query).union(set(document))\n",
    "    return float(len(intersection))/float(len(union))\n",
    "\n",
    "def term_frequency(term, tokenized_document):\n",
    "    return tokenized_document.count(term)\n",
    "\n",
    "def score_tf(query, tokenized_document):\n",
    "    result = 0.0\n",
    "    for q in query:\n",
    "        count = term_frequency(q, tokenized_document)\n",
    "        if count == 0:\n",
    "            count = 0\n",
    "        tf = 1 + math.log(count)\n",
    "        print \"count:\",count, \"\\tterm:\",q,\"\\ttf:\",tf\n",
    "        result = result + tf\n",
    "    return result\n",
    "\n",
    "def score_tf2(query, tokenized_document):\n",
    "    result = 0.0\n",
    "    for q in query:\n",
    "        count = term_frequency(q, tokenized_document)\n",
    "        tf = 1 + math.log(count)\n",
    "        print \"count:\",count, \"\\tterm:\",q,\"\\ttf:\",tf\n",
    "        result = result + tf\n",
    "    return result\n",
    "\n",
    "def inverse_document_frequencies(term, documents):\n",
    "    count = 0\n",
    "    for d in documents:\n",
    "        tokenized_d = text2list(d)\n",
    "        if term in tokenized_d:\n",
    "            count = count + 1\n",
    "    return math.log(len(documents)/count)\n",
    "\n"
   ]
  },
  {
   "cell_type": "code",
   "execution_count": 201,
   "metadata": {
    "collapsed": false
   },
   "outputs": [
    {
     "data": {
      "text/plain": [
       "0.5"
      ]
     },
     "execution_count": 201,
     "metadata": {},
     "output_type": "execute_result"
    }
   ],
   "source": [
    "jaccard_similarity(text2list(\"python programming\"), text2list(text[0]))\n"
   ]
  },
  {
   "cell_type": "code",
   "execution_count": 202,
   "metadata": {
    "collapsed": false
   },
   "outputs": [
    {
     "name": "stdout",
     "output_type": "stream",
     "text": [
      "count: 2 \tterm: programming \ttf: 1.69314718056\n"
     ]
    },
    {
     "data": {
      "text/plain": [
       "1.6931471805599454"
      ]
     },
     "execution_count": 202,
     "metadata": {},
     "output_type": "execute_result"
    }
   ],
   "source": [
    "score_tf(text2list(\"programming\"), text2list(text[0]))"
   ]
  },
  {
   "cell_type": "code",
   "execution_count": 204,
   "metadata": {
    "collapsed": false
   },
   "outputs": [
    {
     "data": {
      "text/plain": [
       "0.6931471805599453"
      ]
     },
     "execution_count": 204,
     "metadata": {},
     "output_type": "execute_result"
    }
   ],
   "source": [
    "inverse_document_frequencies(\"programming\", text)"
   ]
  },
  {
   "cell_type": "markdown",
   "metadata": {},
   "source": [
    "#### Exercise: Create Tf-Idf scoring function "
   ]
  },
  {
   "cell_type": "code",
   "execution_count": 207,
   "metadata": {
    "collapsed": false
   },
   "outputs": [],
   "source": [
    "def score_tfidf(query):\n",
    "    score = 0.0\n",
    "    #\n",
    "    # implement the score tf-idf here\n",
    "    #\n",
    "    return score"
   ]
  },
  {
   "cell_type": "code",
   "execution_count": 209,
   "metadata": {
    "collapsed": false
   },
   "outputs": [
    {
     "data": {
      "text/plain": [
       "0.0"
      ]
     },
     "execution_count": 209,
     "metadata": {},
     "output_type": "execute_result"
    }
   ],
   "source": [
    "score_tfidf(text2list(\"programming python\"))\n"
   ]
  },
  {
   "cell_type": "code",
   "execution_count": null,
   "metadata": {
    "collapsed": true
   },
   "outputs": [],
   "source": []
  }
 ],
 "metadata": {
  "kernelspec": {
   "display_name": "Python 2",
   "language": "python",
   "name": "python2"
  },
  "language_info": {
   "codemirror_mode": {
    "name": "ipython",
    "version": 2
   },
   "file_extension": ".py",
   "mimetype": "text/x-python",
   "name": "python",
   "nbconvert_exporter": "python",
   "pygments_lexer": "ipython2",
   "version": "2.7.10"
  }
 },
 "nbformat": 4,
 "nbformat_minor": 0
}
